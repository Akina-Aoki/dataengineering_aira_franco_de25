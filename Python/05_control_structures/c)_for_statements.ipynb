{
 "cells": [
  {
   "cell_type": "markdown",
   "id": "11058e01",
   "metadata": {},
   "source": [
    "# Lecture 5c - for loop\n",
    "\n",
    "- loop through the same block of code for several times\n",
    "- number of looping times is KNOWN"
   ]
  },
  {
   "cell_type": "markdown",
   "id": "a33fe040",
   "metadata": {},
   "source": [
    "##### range() fuction\n",
    "\n",
    "- with only one argument, like range (5), end argument\n",
    "- default is 0, default step is 1\n",
    "- with three arguments, like range(1, 5, 1) : start, end, step argument"
   ]
  },
  {
   "cell_type": "code",
   "execution_count": 1,
   "id": "1146f6b0",
   "metadata": {},
   "outputs": [
    {
     "name": "stdout",
     "output_type": "stream",
     "text": [
      "0\n",
      "1\n",
      "2\n",
      "3\n",
      "4\n"
     ]
    }
   ],
   "source": [
    "for i in range (5):\n",
    "    print(i)"
   ]
  },
  {
   "cell_type": "code",
   "execution_count": 1,
   "id": "e8228acc",
   "metadata": {},
   "outputs": [
    {
     "name": "stdout",
     "output_type": "stream",
     "text": [
      "1\n",
      "3\n"
     ]
    }
   ],
   "source": [
    "for i in range (1, 5, 2):\n",
    "    print(i)"
   ]
  },
  {
   "cell_type": "code",
   "execution_count": 3,
   "id": "3a92fffa",
   "metadata": {},
   "outputs": [
    {
     "name": "stdout",
     "output_type": "stream",
     "text": [
      "1 3 "
     ]
    }
   ],
   "source": [
    "# spacing between the numbers horizontally\n",
    "for i in range (1, 5, 2):\n",
    "    print(i, end = \" \")"
   ]
  },
  {
   "cell_type": "markdown",
   "id": "f5de2597",
   "metadata": {},
   "source": [
    "##### random module"
   ]
  },
  {
   "cell_type": "markdown",
   "id": "ffb4370e",
   "metadata": {},
   "source": [
    "##### loop through a list"
   ]
  },
  {
   "cell_type": "markdown",
   "id": "db0b9690",
   "metadata": {},
   "source": [
    "##### example of pythonic code"
   ]
  },
  {
   "cell_type": "code",
   "execution_count": null,
   "id": "20f769d6",
   "metadata": {},
   "outputs": [],
   "source": []
  },
  {
   "cell_type": "markdown",
   "id": "511c43ec",
   "metadata": {},
   "source": []
  }
 ],
 "metadata": {
  "kernelspec": {
   "display_name": ".venv",
   "language": "python",
   "name": "python3"
  },
  "language_info": {
   "codemirror_mode": {
    "name": "ipython",
    "version": 3
   },
   "file_extension": ".py",
   "mimetype": "text/x-python",
   "name": "python",
   "nbconvert_exporter": "python",
   "pygments_lexer": "ipython3",
   "version": "3.12.10"
  }
 },
 "nbformat": 4,
 "nbformat_minor": 5
}
