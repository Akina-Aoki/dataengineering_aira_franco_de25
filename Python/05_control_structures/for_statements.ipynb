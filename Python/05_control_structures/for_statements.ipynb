{
 "cells": [
  {
   "cell_type": "markdown",
   "id": "11058e01",
   "metadata": {},
   "source": [
    "# Lecture 5c - for loop\n",
    "\n",
    "- loop through the same block of code for several times\n",
    "- number of looping times is KNOWN"
   ]
  },
  {
   "cell_type": "code",
   "execution_count": 1,
   "id": "1146f6b0",
   "metadata": {},
   "outputs": [
    {
     "name": "stdout",
     "output_type": "stream",
     "text": [
      "0\n",
      "1\n",
      "2\n",
      "3\n",
      "4\n"
     ]
    }
   ],
   "source": [
    "for i in range (5):\n",
    "    print(i)"
   ]
  },
  {
   "cell_type": "code",
   "execution_count": null,
   "id": "20f769d6",
   "metadata": {},
   "outputs": [],
   "source": []
  }
 ],
 "metadata": {
  "kernelspec": {
   "display_name": "Python 3",
   "language": "python",
   "name": "python3"
  },
  "language_info": {
   "codemirror_mode": {
    "name": "ipython",
    "version": 3
   },
   "file_extension": ".py",
   "mimetype": "text/x-python",
   "name": "python",
   "nbconvert_exporter": "python",
   "pygments_lexer": "ipython3",
   "version": "3.12.10"
  }
 },
 "nbformat": 4,
 "nbformat_minor": 5
}
