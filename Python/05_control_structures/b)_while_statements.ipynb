{
 "cells": [
  {
   "cell_type": "markdown",
   "id": "6f3362b0",
   "metadata": {},
   "source": [
    "# Lecture 5b - while loop\n",
    "\n",
    "- loop through the same block of code for several times\n",
    "- number of looping"
   ]
  },
  {
   "cell_type": "code",
   "execution_count": null,
   "id": "603cb56f",
   "metadata": {},
   "outputs": [
    {
     "name": "stdout",
     "output_type": "stream",
     "text": [
      "0\n",
      "2\n",
      "4\n"
     ]
    }
   ],
   "source": [
    "i = 0\n",
    "\n",
    "while i < 5:   # repeat multiple times until condition is met\n",
    "    print(i)\n",
    "    i += 2 #assignment operator: i = i+2\n",
    "    \n"
   ]
  },
  {
   "cell_type": "code",
   "execution_count": null,
   "id": "199fe32e",
   "metadata": {},
   "outputs": [],
   "source": []
  }
 ],
 "metadata": {
  "kernelspec": {
   "display_name": "Python 3",
   "language": "python",
   "name": "python3"
  },
  "language_info": {
   "codemirror_mode": {
    "name": "ipython",
    "version": 3
   },
   "file_extension": ".py",
   "mimetype": "text/x-python",
   "name": "python",
   "nbconvert_exporter": "python",
   "pygments_lexer": "ipython3",
   "version": "3.12.10"
  }
 },
 "nbformat": 4,
 "nbformat_minor": 5
}
