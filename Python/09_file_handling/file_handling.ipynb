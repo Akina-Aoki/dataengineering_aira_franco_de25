{
 "cells": [
  {
   "cell_type": "markdown",
   "id": "b2fe4bb1",
   "metadata": {},
   "source": [
    "# Lecture 9: File Handling\n",
    "- reading text files (.txt)\n",
    "    - read the file to VSC \n",
    "    - clean contents\n",
    "    - write clean contents to a new text file\n",
    "- focus here now are now text/string contents"
   ]
  },
  {
   "cell_type": "markdown",
   "id": "1db742c2",
   "metadata": {},
   "source": [
    "### Reading files\n",
    "#### Choice 1: Open the file directly\n",
    "using the normal navigation to open a file we just created called `test.txt`"
   ]
  },
  {
   "cell_type": "code",
   "execution_count": null,
   "id": "7d441678",
   "metadata": {},
   "outputs": [
    {
     "name": "stdout",
     "output_type": "stream",
     "text": [
      "<_io.TextIOWrapper name='test.txt' mode='r' encoding='cp1252'>\n",
      "random\n",
      "text\n",
      "file\n"
     ]
    }
   ],
   "source": [
    "# \"test.txt\" is in the 09_file_handling so only need to write \"test.txt\"\n",
    "# otherwise, if outside the file opened, need to write the whole path (another course)\n",
    "\n",
    "f = open(\"test.txt\", \"r\") # 1st argument = path, 2nd argument = read file, \n",
    "print(f)  # f is just an open file, no contents shown\n",
    "\n",
    "# save contents of file in a variable\n",
    "#read method to open the contents\n",
    "text = f.read()    \n",
    "print(text)\n",
    "\n",
    "# recommended and important in python is to close the file to avoid crashing the file\n",
    "f.close()"
   ]
  },
  {
   "cell_type": "markdown",
   "id": "af415a7c",
   "metadata": {},
   "source": []
  },
  {
   "cell_type": "markdown",
   "id": "fb494384",
   "metadata": {},
   "source": [
    "#### Choice 2: Open the file with `with` statement"
   ]
  },
  {
   "cell_type": "code",
   "execution_count": 5,
   "id": "68d65f42",
   "metadata": {},
   "outputs": [
    {
     "name": "stdout",
     "output_type": "stream",
     "text": [
      "random\n",
      "text\n",
      "file\n"
     ]
    }
   ],
   "source": [
    "with open (\"test.txt\", \"r\",) as f:\n",
    "    text = f.read()\n",
    "    # with statement will close the file automatically\n",
    "\n",
    "print(text)"
   ]
  },
  {
   "cell_type": "code",
   "execution_count": 6,
   "id": "a6436c86",
   "metadata": {},
   "outputs": [
    {
     "data": {
      "text/plain": [
       "'random\\ntext\\nfile'"
      ]
     },
     "execution_count": 6,
     "metadata": {},
     "output_type": "execute_result"
    }
   ],
   "source": [
    "text"
   ]
  },
  {
   "cell_type": "code",
   "execution_count": null,
   "id": "8b691154",
   "metadata": {},
   "outputs": [],
   "source": []
  }
 ],
 "metadata": {
  "kernelspec": {
   "display_name": "python_code_along",
   "language": "python",
   "name": "python3"
  },
  "language_info": {
   "codemirror_mode": {
    "name": "ipython",
    "version": 3
   },
   "file_extension": ".py",
   "mimetype": "text/x-python",
   "name": "python",
   "nbconvert_exporter": "python",
   "pygments_lexer": "ipython3",
   "version": "3.12.10"
  }
 },
 "nbformat": 4,
 "nbformat_minor": 5
}
