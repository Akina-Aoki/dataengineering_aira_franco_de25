{
 "cells": [
  {
   "cell_type": "markdown",
   "id": "c9cf8100",
   "metadata": {},
   "source": [
    "# Dictionary\n",
    "- A collection data type where data is stored in key - value pair"
   ]
  },
  {
   "cell_type": "markdown",
   "id": "4a921a6b",
   "metadata": {},
   "source": [
    "### Create a dictionary with `dict()` class type"
   ]
  },
  {
   "cell_type": "code",
   "execution_count": 1,
   "id": "3f76fdb9",
   "metadata": {},
   "outputs": [],
   "source": [
    "# this a class. Means creating an object called \"person\"\n",
    "# create a key-value pair\n",
    "person = dict(\n",
    "    name = \"Kokchun\",\n",
    "    age = 34.9,\n",
    "    work = \"teacher\"\n",
    ")"
   ]
  },
  {
   "cell_type": "markdown",
   "id": "32a99b5e",
   "metadata": {},
   "source": [
    "#### Retrieving data from the dictionary"
   ]
  },
  {
   "cell_type": "code",
   "execution_count": 4,
   "id": "04f8494a",
   "metadata": {},
   "outputs": [
    {
     "name": "stdout",
     "output_type": "stream",
     "text": [
      "Kokchun\n",
      "teacher\n"
     ]
    }
   ],
   "source": [
    "# retrieving data from dict\n",
    "# eg: retrieve the name\n",
    "print(person[\"name\"])       # compare to list indexing: list[0]\n",
    "\n",
    "# eg: retrieve the occupation\n",
    "print(person[\"work\"])"
   ]
  },
  {
   "cell_type": "markdown",
   "id": "2e0ac3e6",
   "metadata": {},
   "source": [
    "### Another way to create a dictionary with the `{}`"
   ]
  },
  {
   "cell_type": "code",
   "execution_count": 13,
   "id": "8b74ead6",
   "metadata": {},
   "outputs": [
    {
     "name": "stdout",
     "output_type": "stream",
     "text": [
      "Kokchun\n",
      "teacher\n",
      "math\n",
      "Sweden\n"
     ]
    }
   ],
   "source": [
    "person = {\n",
    "          \"name\": \"Kokchun\",\n",
    "          \"age\": 34.9,\n",
    "          \"work\": \"teacher\",\n",
    "          \"interest\": [\"math\", \"python\", \"yoga\"],\n",
    "          \"address\": {\"country\":\"Sweden\", \"city\": \"Stockholm\"}\n",
    "          }\n",
    "\n",
    "print(person[\"name\"])\n",
    "print(person[\"work\"])\n",
    "print(person[\"interest\"][0])\n",
    "print(person[\"address\"][\"country\"])"
   ]
  },
  {
   "cell_type": "code",
   "execution_count": null,
   "id": "9e3c7749",
   "metadata": {},
   "outputs": [],
   "source": []
  }
 ],
 "metadata": {
  "kernelspec": {
   "display_name": "python_code_along",
   "language": "python",
   "name": "python3"
  },
  "language_info": {
   "codemirror_mode": {
    "name": "ipython",
    "version": 3
   },
   "file_extension": ".py",
   "mimetype": "text/x-python",
   "name": "python",
   "nbconvert_exporter": "python",
   "pygments_lexer": "ipython3",
   "version": "3.12.10"
  }
 },
 "nbformat": 4,
 "nbformat_minor": 5
}
